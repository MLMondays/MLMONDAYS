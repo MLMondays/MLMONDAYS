{
 "cells": [
  {
   "cell_type": "markdown",
   "metadata": {},
   "source": [
    "Example of how to query files and functions from jupyter notebooks"
   ]
  },
  {
   "cell_type": "code",
   "execution_count": 1,
   "metadata": {},
   "outputs": [],
   "source": [
    "import os\n",
    "os.chdir('/home/jovyan/MLMONDAYS/1_ImageRecog')"
   ]
  },
  {
   "cell_type": "markdown",
   "metadata": {},
   "source": [
    "Utilities for reading docstrings from files when queried"
   ]
  },
  {
   "cell_type": "code",
   "execution_count": 2,
   "metadata": {},
   "outputs": [],
   "source": [
    "import ast\n",
    "import sys\n",
    "\n",
    "def top_level_functions(body):\n",
    "    return (f for f in body if isinstance(f, ast.FunctionDef))\n",
    "\n",
    "def parse_ast(filename):\n",
    "    with open(filename, \"rt\") as file:\n",
    "        return ast.parse(file.read(), filename=filename)"
   ]
  },
  {
   "cell_type": "markdown",
   "metadata": {},
   "source": [
    "Load in some functions to query"
   ]
  },
  {
   "cell_type": "code",
   "execution_count": 3,
   "metadata": {},
   "outputs": [
    {
     "name": "stdout",
     "output_type": "stream",
     "text": [
      "Version:  2.2.0\n",
      "Eager mode:  True\n",
      "GPU name:  [PhysicalDevice(name='/physical_device:GPU:0', device_type='GPU')]\n",
      "Num GPUs Available:  1\n"
     ]
    }
   ],
   "source": [
    "from imports import *"
   ]
  },
  {
   "cell_type": "code",
   "execution_count": 9,
   "metadata": {},
   "outputs": [],
   "source": [
    "filename = 'model_funcs.py'"
   ]
  },
  {
   "cell_type": "code",
   "execution_count": 10,
   "metadata": {},
   "outputs": [
    {
     "name": "stdout",
     "output_type": "stream",
     "text": [
      "  lrfn\n",
      "  transfer_learning_model_vgg\n",
      "  mobilenet_model\n",
      "  transfer_learning_mobilenet_model\n",
      "  transfer_learning_xception_model\n",
      "  xception_model\n",
      "  conv_block\n",
      "  make_cat_model\n"
     ]
    }
   ],
   "source": [
    "tree = parse_ast(filename)\n",
    "for func in top_level_functions(tree.body):\n",
    "    print(\"  %s\" % func.name)"
   ]
  },
  {
   "cell_type": "code",
   "execution_count": 11,
   "metadata": {},
   "outputs": [
    {
     "data": {
      "text/plain": [
       "\u001b[0;31mSignature:\u001b[0m \u001b[0mmobilenet_model\u001b[0m\u001b[0;34m(\u001b[0m\u001b[0mnum_classes\u001b[0m\u001b[0;34m,\u001b[0m \u001b[0minput_shape\u001b[0m\u001b[0;34m,\u001b[0m \u001b[0mdropout_rate\u001b[0m\u001b[0;34m=\u001b[0m\u001b[0;36m0.5\u001b[0m\u001b[0;34m)\u001b[0m\u001b[0;34m\u001b[0m\u001b[0;34m\u001b[0m\u001b[0m\n",
       "\u001b[0;31mDocstring:\u001b[0m\n",
       "mobilenet_model(num_classes, input_shape, dropout_rate=0.5)\n",
       "This function creates an implementation of a convolutional deep learning model for estimating\n",
       "    a discrete category based on mobilenet, trained from scratch\n",
       "INPUTS:\n",
       "    * num_classes = number of classes (output nodes on classification layer)\n",
       "    * input_shape = size of input layer (i.e. image tensor)\n",
       "OPTIONAL INPUTS:\n",
       "    * dropout_rate = proportion of neurons to randomly set to zero, after the pooling layer\n",
       "GLOBAL INPUTS: None\n",
       "OUTPUTS: keras model instance\n",
       "\u001b[0;31mFile:\u001b[0m      ~/MLMONDAYS/1_ImageRecog/model_funcs.py\n",
       "\u001b[0;31mType:\u001b[0m      function\n"
      ]
     },
     "metadata": {},
     "output_type": "display_data"
    }
   ],
   "source": [
    "mobilenet_model?"
   ]
  },
  {
   "cell_type": "code",
   "execution_count": 12,
   "metadata": {},
   "outputs": [],
   "source": [
    "filename = 'plot_funcs.py'"
   ]
  },
  {
   "cell_type": "code",
   "execution_count": 13,
   "metadata": {},
   "outputs": [
    {
     "name": "stdout",
     "output_type": "stream",
     "text": [
      "  plot_history\n",
      "  get_label_pairs\n",
      "  p_confmat\n",
      "  make_sample_plot\n",
      "  compute_hist\n",
      "  plot_distribution\n",
      "  plot_one_class\n",
      "  compute_mean_image\n",
      "  plot_mean_images\n",
      "  plot_tsne\n",
      "  visualize_scatter_with_images\n"
     ]
    }
   ],
   "source": [
    "tree = parse_ast(filename)\n",
    "for func in top_level_functions(tree.body):\n",
    "    print(\"  %s\" % func.name)"
   ]
  },
  {
   "cell_type": "code",
   "execution_count": 14,
   "metadata": {},
   "outputs": [
    {
     "data": {
      "text/plain": [
       "\u001b[0;31mSignature:\u001b[0m \u001b[0mplot_history\u001b[0m\u001b[0;34m(\u001b[0m\u001b[0mhistory\u001b[0m\u001b[0;34m,\u001b[0m \u001b[0mtrain_hist_fig\u001b[0m\u001b[0;34m)\u001b[0m\u001b[0;34m\u001b[0m\u001b[0;34m\u001b[0m\u001b[0m\n",
       "\u001b[0;31mDocstring:\u001b[0m\n",
       "plot_history(history, train_hist_fig)\n",
       "This function plots the training history of a model\n",
       "INPUTS:\n",
       "    * history [dict]: the output dictionary of the model.fit() process, i.e. history = model.fit(...)\n",
       "    * train_hist_fig [string]: the filename where the plot will be printed\n",
       "OPTIONAL INPUTS: None\n",
       "GLOBAL INPUTS: None\n",
       "OUTPUTS: None (figure printed to file)\n",
       "\u001b[0;31mFile:\u001b[0m      ~/MLMONDAYS/1_ImageRecog/plot_funcs.py\n",
       "\u001b[0;31mType:\u001b[0m      function\n"
      ]
     },
     "metadata": {},
     "output_type": "display_data"
    }
   ],
   "source": [
    "plot_history?"
   ]
  },
  {
   "cell_type": "code",
   "execution_count": null,
   "metadata": {},
   "outputs": [],
   "source": []
  }
 ],
 "metadata": {
  "kernelspec": {
   "display_name": "Python [conda env:pangeo] *",
   "language": "python",
   "name": "conda-env-pangeo-py"
  },
  "language_info": {
   "codemirror_mode": {
    "name": "ipython",
    "version": 3
   },
   "file_extension": ".py",
   "mimetype": "text/x-python",
   "name": "python",
   "nbconvert_exporter": "python",
   "pygments_lexer": "ipython3",
   "version": "3.6.12"
  }
 },
 "nbformat": 4,
 "nbformat_minor": 4
}
